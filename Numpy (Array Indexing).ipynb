{
 "cells": [
  {
   "cell_type": "code",
   "execution_count": 1,
   "id": "76aa7674",
   "metadata": {},
   "outputs": [],
   "source": [
    "import numpy as np"
   ]
  },
  {
   "cell_type": "markdown",
   "id": "e64c864b",
   "metadata": {},
   "source": [
    "####### 1. Create a 1D NumPy array with the integers from 0 to 9. Extract the 3rd element from the array."
   ]
  },
  {
   "cell_type": "code",
   "execution_count": 11,
   "id": "c4f20d83",
   "metadata": {},
   "outputs": [
    {
     "name": "stdout",
     "output_type": "stream",
     "text": [
      "[0 1 2 3 4 5 6 7 8 9]\n"
     ]
    }
   ],
   "source": [
    "a = np.arange(0,10)\n",
    "print(a)"
   ]
  },
  {
   "cell_type": "code",
   "execution_count": 16,
   "id": "a481ec45",
   "metadata": {},
   "outputs": [
    {
     "data": {
      "text/plain": [
       "2"
      ]
     },
     "execution_count": 16,
     "metadata": {},
     "output_type": "execute_result"
    }
   ],
   "source": [
    "a[2]"
   ]
  },
  {
   "cell_type": "markdown",
   "id": "02e063bd",
   "metadata": {},
   "source": [
    "####### 2. Create a 2D NumPy array with shape (3, 3) and fill it with random numbers. Extract the element at row 2, column 1."
   ]
  },
  {
   "cell_type": "code",
   "execution_count": 21,
   "id": "7b393dac",
   "metadata": {},
   "outputs": [
    {
     "data": {
      "text/plain": [
       "array([[0.02150136, 0.42811352, 0.03738926],\n",
       "       [0.04346959, 0.11076853, 0.77366716],\n",
       "       [0.05960207, 0.91120573, 0.88744871]])"
      ]
     },
     "execution_count": 21,
     "metadata": {},
     "output_type": "execute_result"
    }
   ],
   "source": [
    "array = np.random.rand(3,3)\n",
    "array"
   ]
  },
  {
   "cell_type": "code",
   "execution_count": 22,
   "id": "29fd0e63",
   "metadata": {},
   "outputs": [
    {
     "data": {
      "text/plain": [
       "0.911205730749302"
      ]
     },
     "execution_count": 22,
     "metadata": {},
     "output_type": "execute_result"
    }
   ],
   "source": [
    "array[2][1]"
   ]
  },
  {
   "cell_type": "markdown",
   "id": "6e79e745",
   "metadata": {},
   "source": [
    "3. Create a 2D NumPy array with shape (4, 4) and fill it with random numbers. Extract the subarray consisting of the first 2 rows and the last 2 columns."
   ]
  },
  {
   "cell_type": "code",
   "execution_count": 30,
   "id": "a8b05907",
   "metadata": {},
   "outputs": [
    {
     "data": {
      "text/plain": [
       "array([[0.8448455 , 0.3474935 , 0.98967176, 0.70462181],\n",
       "       [0.63966199, 0.43664188, 0.34869763, 0.93323806],\n",
       "       [0.84905871, 0.04521329, 0.55391123, 0.25440539],\n",
       "       [0.87334745, 0.51369992, 0.91290829, 0.76121398]])"
      ]
     },
     "execution_count": 30,
     "metadata": {},
     "output_type": "execute_result"
    }
   ],
   "source": [
    "array = np.random.rand(4,4)\n",
    "array\n"
   ]
  },
  {
   "cell_type": "code",
   "execution_count": 41,
   "id": "04b74e94",
   "metadata": {},
   "outputs": [
    {
     "data": {
      "text/plain": [
       "array([[0.98967176, 0.70462181],\n",
       "       [0.34869763, 0.93323806]])"
      ]
     },
     "execution_count": 41,
     "metadata": {},
     "output_type": "execute_result"
    }
   ],
   "source": [
    "array[:2, 2:]"
   ]
  },
  {
   "cell_type": "markdown",
   "id": "5f374ac8",
   "metadata": {},
   "source": [
    "4. Create a 1D NumPy array with the integers from 0 to 9. Copy a slice of the array consisting of the first 3 elements."
   ]
  },
  {
   "cell_type": "code",
   "execution_count": 45,
   "id": "3e6f0f48",
   "metadata": {},
   "outputs": [
    {
     "data": {
      "text/plain": [
       "array([0, 1, 2])"
      ]
     },
     "execution_count": 45,
     "metadata": {},
     "output_type": "execute_result"
    }
   ],
   "source": [
    "a = np.arange(0,10)\n",
    "a2 = a[:3].copy()\n",
    "a2"
   ]
  },
  {
   "cell_type": "markdown",
   "id": "a9d09405",
   "metadata": {},
   "source": [
    "5. Create a 2D NumPy array with shape (3, 3) and fill it with random numbers. Copy a slice of the array consisting of the first 2 rows and the first 2 columns."
   ]
  },
  {
   "cell_type": "code",
   "execution_count": 46,
   "id": "8e542f03",
   "metadata": {},
   "outputs": [
    {
     "data": {
      "text/plain": [
       "array([[0.92030929, 0.33473853, 0.80323653],\n",
       "       [0.11944753, 0.65737104, 0.60115182],\n",
       "       [0.91318304, 0.84257827, 0.0270013 ]])"
      ]
     },
     "execution_count": 46,
     "metadata": {},
     "output_type": "execute_result"
    }
   ],
   "source": [
    "array = np.random.rand(3,3)\n",
    "array\n"
   ]
  },
  {
   "cell_type": "code",
   "execution_count": 48,
   "id": "d57f54aa",
   "metadata": {},
   "outputs": [
    {
     "data": {
      "text/plain": [
       "array([[0.92030929, 0.33473853],\n",
       "       [0.11944753, 0.65737104]])"
      ]
     },
     "execution_count": 48,
     "metadata": {},
     "output_type": "execute_result"
    }
   ],
   "source": [
    "array2 = array[:2, :2]\n",
    "array2"
   ]
  },
  {
   "cell_type": "markdown",
   "id": "43e331fa",
   "metadata": {},
   "source": [
    "6. Create a 1D NumPy array with the integers from 0 to 9. Reshape the array into a 2D array with shape (3, 3)."
   ]
  },
  {
   "cell_type": "code",
   "execution_count": 51,
   "id": "47f4698a",
   "metadata": {},
   "outputs": [
    {
     "data": {
      "text/plain": [
       "array([[0, 1, 2],\n",
       "       [3, 4, 5],\n",
       "       [6, 7, 8]])"
      ]
     },
     "execution_count": 51,
     "metadata": {},
     "output_type": "execute_result"
    }
   ],
   "source": [
    "a = np.arange(0,9)\n",
    "arr = a.reshape(3,3)\n",
    "arr"
   ]
  },
  {
   "cell_type": "markdown",
   "id": "ecabcba3",
   "metadata": {},
   "source": [
    "7. Create a 2D NumPy array with shape (4, 4) and fill it with random numbers. Reshape the array into a 1D array."
   ]
  },
  {
   "cell_type": "code",
   "execution_count": 52,
   "id": "fce77c8e",
   "metadata": {},
   "outputs": [
    {
     "data": {
      "text/plain": [
       "array([[0.6993676 , 0.11784818, 0.67248502, 0.08498394],\n",
       "       [0.97025583, 0.88084527, 0.60091079, 0.36427899],\n",
       "       [0.35675616, 0.59590292, 0.78028985, 0.9271515 ],\n",
       "       [0.51202005, 0.64230439, 0.71805844, 0.93774269]])"
      ]
     },
     "execution_count": 52,
     "metadata": {},
     "output_type": "execute_result"
    }
   ],
   "source": [
    "arr = np.random.rand(4,4)\n",
    "arr"
   ]
  },
  {
   "cell_type": "code",
   "execution_count": 56,
   "id": "4e859f90",
   "metadata": {},
   "outputs": [
    {
     "data": {
      "text/plain": [
       "array([0.6993676 , 0.11784818, 0.67248502, 0.08498394, 0.97025583,\n",
       "       0.88084527, 0.60091079, 0.36427899, 0.35675616, 0.59590292,\n",
       "       0.78028985, 0.9271515 , 0.51202005, 0.64230439, 0.71805844,\n",
       "       0.93774269])"
      ]
     },
     "execution_count": 56,
     "metadata": {},
     "output_type": "execute_result"
    }
   ],
   "source": [
    "resh = arr.reshape(-1)\n",
    "resh"
   ]
  },
  {
   "cell_type": "markdown",
   "id": "c5b20e2f",
   "metadata": {},
   "source": [
    "8. Create two 1D NumPy arrays with the integers from 0 to 4. Concatenate the two arrays into a single 1D array."
   ]
  },
  {
   "cell_type": "code",
   "execution_count": 57,
   "id": "810a849e",
   "metadata": {},
   "outputs": [
    {
     "data": {
      "text/plain": [
       "array([0, 2, 4, 6])"
      ]
     },
     "execution_count": 57,
     "metadata": {},
     "output_type": "execute_result"
    }
   ],
   "source": [
    "a1 = np.arange(0,4)\n",
    "a2 = np.arange(0,4)\n",
    "a = a1+a2\n",
    "a"
   ]
  },
  {
   "cell_type": "markdown",
   "id": "b59ceef4",
   "metadata": {},
   "source": []
  }
 ],
 "metadata": {
  "kernelspec": {
   "display_name": "Python 3 (ipykernel)",
   "language": "python",
   "name": "python3"
  },
  "language_info": {
   "codemirror_mode": {
    "name": "ipython",
    "version": 3
   },
   "file_extension": ".py",
   "mimetype": "text/x-python",
   "name": "python",
   "nbconvert_exporter": "python",
   "pygments_lexer": "ipython3",
   "version": "3.9.13"
  }
 },
 "nbformat": 4,
 "nbformat_minor": 5
}
