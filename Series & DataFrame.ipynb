{
 "cells": [
  {
   "cell_type": "markdown",
   "id": "24e83c1f",
   "metadata": {},
   "source": [
    "# Seriesss"
   ]
  },
  {
   "cell_type": "code",
   "execution_count": 4,
   "id": "051b5fed",
   "metadata": {},
   "outputs": [],
   "source": [
    "import numpy as np\n",
    "import pandas as pd\n",
    "from pandas import Series,DataFrame"
   ]
  },
  {
   "cell_type": "markdown",
   "id": "de4d44f8",
   "metadata": {},
   "source": [
    "Create a Series"
   ]
  },
  {
   "cell_type": "code",
   "execution_count": 6,
   "id": "621bbc8d",
   "metadata": {},
   "outputs": [
    {
     "data": {
      "text/plain": [
       "0    5\n",
       "1    8\n",
       "2    3\n",
       "3    7\n",
       "dtype: int64"
      ]
     },
     "execution_count": 6,
     "metadata": {},
     "output_type": "execute_result"
    }
   ],
   "source": [
    "array = [5,8,3,7]\n",
    "series_1 = Series(array)\n",
    "series_1"
   ]
  },
  {
   "cell_type": "markdown",
   "id": "f49541a4",
   "metadata": {},
   "source": [
    "Assign the following index labels to the Series: indexLables=['First', 'Second', 'Third', 'Fourth']"
   ]
  },
  {
   "cell_type": "code",
   "execution_count": 7,
   "id": "00b85172",
   "metadata": {},
   "outputs": [
    {
     "data": {
      "text/plain": [
       "First     5\n",
       "Second    8\n",
       "Third     3\n",
       "Fourth    7\n",
       "dtype: int64"
      ]
     },
     "execution_count": 7,
     "metadata": {},
     "output_type": "execute_result"
    }
   ],
   "source": [
    "array = [5,8,3,7]\n",
    "series_1 = Series(array, index=['First', 'Second', 'Third', 'Fourth'])\n",
    "series_1"
   ]
  },
  {
   "cell_type": "markdown",
   "id": "aec8176c",
   "metadata": {},
   "source": [
    "Use index values to select the value of the Series for the label 'Fourth'."
   ]
  },
  {
   "cell_type": "code",
   "execution_count": 33,
   "id": "76ab23eb",
   "metadata": {},
   "outputs": [
    {
     "data": {
      "text/plain": [
       "7"
      ]
     },
     "execution_count": 33,
     "metadata": {},
     "output_type": "execute_result"
    }
   ],
   "source": [
    "series_1['Fourth']"
   ]
  },
  {
   "cell_type": "code",
   "execution_count": 9,
   "id": "bcd33177",
   "metadata": {},
   "outputs": [
    {
     "data": {
      "text/plain": [
       "First     5\n",
       "Second    8\n",
       "Third     3\n",
       "Fourth    7\n",
       "Name: Numbers, dtype: int64"
      ]
     },
     "execution_count": 9,
     "metadata": {},
     "output_type": "execute_result"
    }
   ],
   "source": [
    "series_1.name = 'Numbers'\n",
    "series_1"
   ]
  },
  {
   "cell_type": "code",
   "execution_count": 18,
   "id": "a35dcec6",
   "metadata": {},
   "outputs": [
    {
     "data": {
      "text/plain": [
       "Index\n",
       "First     5\n",
       "Second    8\n",
       "Third     3\n",
       "Fourth    7\n",
       "Name: Numbers, dtype: int64"
      ]
     },
     "execution_count": 18,
     "metadata": {},
     "output_type": "execute_result"
    }
   ],
   "source": [
    "series_1.index.name = 'Index'\n",
    "series_1"
   ]
  },
  {
   "cell_type": "code",
   "execution_count": 16,
   "id": "cb713ac0",
   "metadata": {},
   "outputs": [
    {
     "data": {
      "text/plain": [
       "array([5, 8, 3, 7], dtype=int64)"
      ]
     },
     "execution_count": 16,
     "metadata": {},
     "output_type": "execute_result"
    }
   ],
   "source": [
    "series_1.values"
   ]
  },
  {
   "cell_type": "code",
   "execution_count": 19,
   "id": "ff582afe",
   "metadata": {},
   "outputs": [
    {
     "data": {
      "text/plain": [
       "Index(['First', 'Second', 'Third', 'Fourth'], dtype='object', name='Index')"
      ]
     },
     "execution_count": 19,
     "metadata": {},
     "output_type": "execute_result"
    }
   ],
   "source": [
    "series_1.index"
   ]
  },
  {
   "cell_type": "code",
   "execution_count": 20,
   "id": "494652be",
   "metadata": {},
   "outputs": [
    {
     "data": {
      "text/plain": [
       "{'First': 5, 'Second': 8, 'Third': 3, 'Fourth': 7}"
      ]
     },
     "execution_count": 20,
     "metadata": {},
     "output_type": "execute_result"
    }
   ],
   "source": [
    "dictt = series_1.to_dict()\n",
    "dictt"
   ]
  },
  {
   "cell_type": "code",
   "execution_count": 21,
   "id": "ada96393",
   "metadata": {},
   "outputs": [
    {
     "data": {
      "text/plain": [
       "Third     3.0\n",
       "First     5.0\n",
       "Fourth    7.0\n",
       "Second    8.0\n",
       "Fifth     NaN\n",
       "dtype: float64"
      ]
     },
     "execution_count": 21,
     "metadata": {},
     "output_type": "execute_result"
    }
   ],
   "source": [
    "indexx = ['Third', 'First', 'Fourth', 'Second', 'Fifth']\n",
    "seriess = Series(dictt, indexx)\n",
    "\n",
    "seriess"
   ]
  },
  {
   "cell_type": "markdown",
   "id": "d26c6130",
   "metadata": {},
   "source": [
    "Check if the Series contains the value 20 using a boolean array."
   ]
  },
  {
   "cell_type": "code",
   "execution_count": 36,
   "id": "64cd6d92",
   "metadata": {},
   "outputs": [
    {
     "data": {
      "text/plain": [
       "Index\n",
       "First     False\n",
       "Second     True\n",
       "Third     False\n",
       "Fourth    False\n",
       "Name: Numbers, dtype: bool"
      ]
     },
     "execution_count": 36,
     "metadata": {},
     "output_type": "execute_result"
    }
   ],
   "source": [
    "series_1 == 8"
   ]
  },
  {
   "cell_type": "markdown",
   "id": "40585a4f",
   "metadata": {},
   "source": [
    "Check if the Series contains the values 3 and 15 using a boolean array."
   ]
  },
  {
   "cell_type": "code",
   "execution_count": null,
   "id": "fa593a95",
   "metadata": {},
   "outputs": [],
   "source": []
  },
  {
   "cell_type": "code",
   "execution_count": 22,
   "id": "3541c368",
   "metadata": {},
   "outputs": [
    {
     "data": {
      "text/plain": [
       "Third     False\n",
       "First     False\n",
       "Fourth    False\n",
       "Second    False\n",
       "Fifth      True\n",
       "dtype: bool"
      ]
     },
     "execution_count": 22,
     "metadata": {},
     "output_type": "execute_result"
    }
   ],
   "source": [
    "pd.isnull(seriess)"
   ]
  },
  {
   "cell_type": "code",
   "execution_count": 23,
   "id": "5825b3fa",
   "metadata": {},
   "outputs": [
    {
     "data": {
      "text/plain": [
       "Third      True\n",
       "First      True\n",
       "Fourth     True\n",
       "Second     True\n",
       "Fifth     False\n",
       "dtype: bool"
      ]
     },
     "execution_count": 23,
     "metadata": {},
     "output_type": "execute_result"
    }
   ],
   "source": [
    "pd.notnull(seriess)"
   ]
  },
  {
   "cell_type": "code",
   "execution_count": 26,
   "id": "117619d3",
   "metadata": {},
   "outputs": [
    {
     "name": "stdout",
     "output_type": "stream",
     "text": [
      "Series without Fifth index Index\n",
      "First     5\n",
      "Second    8\n",
      "Third     3\n",
      "Fourth    7\n",
      "Name: Numbers, dtype: int64\n",
      "Series with Fifth index\n",
      " Third     3.0\n",
      "First     5.0\n",
      "Fourth    7.0\n",
      "Second    8.0\n",
      "Fifth     NaN\n",
      "dtype: float64\n"
     ]
    }
   ],
   "source": [
    "print('Series without Fifth index',series_1)\n",
    "print('Series with Fifth index\\n',seriess)"
   ]
  },
  {
   "cell_type": "code",
   "execution_count": 29,
   "id": "7f9e0f50",
   "metadata": {},
   "outputs": [
    {
     "data": {
      "text/plain": [
       "Fifth      NaN\n",
       "First     10.0\n",
       "Fourth    14.0\n",
       "Second    16.0\n",
       "Third      6.0\n",
       "dtype: float64"
      ]
     },
     "execution_count": 29,
     "metadata": {},
     "output_type": "execute_result"
    }
   ],
   "source": [
    "series_1 + seriess"
   ]
  },
  {
   "cell_type": "markdown",
   "id": "7b6bde78",
   "metadata": {},
   "source": [
    "# DataFrameeee"
   ]
  },
  {
   "cell_type": "code",
   "execution_count": 48,
   "id": "48e23608",
   "metadata": {},
   "outputs": [
    {
     "data": {
      "text/html": [
       "<div>\n",
       "<style scoped>\n",
       "    .dataframe tbody tr th:only-of-type {\n",
       "        vertical-align: middle;\n",
       "    }\n",
       "\n",
       "    .dataframe tbody tr th {\n",
       "        vertical-align: top;\n",
       "    }\n",
       "\n",
       "    .dataframe thead th {\n",
       "        text-align: right;\n",
       "    }\n",
       "</style>\n",
       "<table border=\"1\" class=\"dataframe\">\n",
       "  <thead>\n",
       "    <tr style=\"text-align: right;\">\n",
       "      <th></th>\n",
       "      <th>Sample ID</th>\n",
       "      <th>pH</th>\n",
       "      <th>Temperature (°C)</th>\n",
       "      <th>Turbidity (NTU)</th>\n",
       "      <th>Dissolved Oxygen (mg/L)</th>\n",
       "      <th>Conductivity (µS/cm)</th>\n",
       "    </tr>\n",
       "  </thead>\n",
       "  <tbody>\n",
       "    <tr>\n",
       "      <th>0</th>\n",
       "      <td>1</td>\n",
       "      <td>7.25</td>\n",
       "      <td>23.1</td>\n",
       "      <td>4.5</td>\n",
       "      <td>7.8</td>\n",
       "      <td>342</td>\n",
       "    </tr>\n",
       "    <tr>\n",
       "      <th>1</th>\n",
       "      <td>2</td>\n",
       "      <td>7.11</td>\n",
       "      <td>22.3</td>\n",
       "      <td>5.1</td>\n",
       "      <td>6.2</td>\n",
       "      <td>335</td>\n",
       "    </tr>\n",
       "    <tr>\n",
       "      <th>2</th>\n",
       "      <td>3</td>\n",
       "      <td>7.03</td>\n",
       "      <td>21.5</td>\n",
       "      <td>3.9</td>\n",
       "      <td>8.3</td>\n",
       "      <td>356</td>\n",
       "    </tr>\n",
       "    <tr>\n",
       "      <th>3</th>\n",
       "      <td>4</td>\n",
       "      <td>7.38</td>\n",
       "      <td>22.9</td>\n",
       "      <td>3.2</td>\n",
       "      <td>9.5</td>\n",
       "      <td>327</td>\n",
       "    </tr>\n",
       "    <tr>\n",
       "      <th>4</th>\n",
       "      <td>5</td>\n",
       "      <td>7.45</td>\n",
       "      <td>20.7</td>\n",
       "      <td>3.8</td>\n",
       "      <td>8.1</td>\n",
       "      <td>352</td>\n",
       "    </tr>\n",
       "    <tr>\n",
       "      <th>...</th>\n",
       "      <td>...</td>\n",
       "      <td>...</td>\n",
       "      <td>...</td>\n",
       "      <td>...</td>\n",
       "      <td>...</td>\n",
       "      <td>...</td>\n",
       "    </tr>\n",
       "    <tr>\n",
       "      <th>495</th>\n",
       "      <td>496</td>\n",
       "      <td>7.01</td>\n",
       "      <td>20.8</td>\n",
       "      <td>4.6</td>\n",
       "      <td>7.1</td>\n",
       "      <td>327</td>\n",
       "    </tr>\n",
       "    <tr>\n",
       "      <th>496</th>\n",
       "      <td>497</td>\n",
       "      <td>7.31</td>\n",
       "      <td>22.5</td>\n",
       "      <td>3.8</td>\n",
       "      <td>9.4</td>\n",
       "      <td>361</td>\n",
       "    </tr>\n",
       "    <tr>\n",
       "      <th>497</th>\n",
       "      <td>498</td>\n",
       "      <td>7.02</td>\n",
       "      <td>21.2</td>\n",
       "      <td>4.7</td>\n",
       "      <td>7.5</td>\n",
       "      <td>334</td>\n",
       "    </tr>\n",
       "    <tr>\n",
       "      <th>498</th>\n",
       "      <td>499</td>\n",
       "      <td>7.25</td>\n",
       "      <td>23.0</td>\n",
       "      <td>3.9</td>\n",
       "      <td>8.7</td>\n",
       "      <td>359</td>\n",
       "    </tr>\n",
       "    <tr>\n",
       "      <th>499</th>\n",
       "      <td>500</td>\n",
       "      <td>7.12</td>\n",
       "      <td>20.9</td>\n",
       "      <td>4.4</td>\n",
       "      <td>8.2</td>\n",
       "      <td>339</td>\n",
       "    </tr>\n",
       "  </tbody>\n",
       "</table>\n",
       "<p>500 rows × 6 columns</p>\n",
       "</div>"
      ],
      "text/plain": [
       "     Sample ID    pH  Temperature (°C)  Turbidity (NTU)  \\\n",
       "0            1  7.25              23.1              4.5   \n",
       "1            2  7.11              22.3              5.1   \n",
       "2            3  7.03              21.5              3.9   \n",
       "3            4  7.38              22.9              3.2   \n",
       "4            5  7.45              20.7              3.8   \n",
       "..         ...   ...               ...              ...   \n",
       "495        496  7.01              20.8              4.6   \n",
       "496        497  7.31              22.5              3.8   \n",
       "497        498  7.02              21.2              4.7   \n",
       "498        499  7.25              23.0              3.9   \n",
       "499        500  7.12              20.9              4.4   \n",
       "\n",
       "     Dissolved Oxygen (mg/L)  Conductivity (µS/cm)  \n",
       "0                        7.8                   342  \n",
       "1                        6.2                   335  \n",
       "2                        8.3                   356  \n",
       "3                        9.5                   327  \n",
       "4                        8.1                   352  \n",
       "..                       ...                   ...  \n",
       "495                      7.1                   327  \n",
       "496                      9.4                   361  \n",
       "497                      7.5                   334  \n",
       "498                      8.7                   359  \n",
       "499                      8.2                   339  \n",
       "\n",
       "[500 rows x 6 columns]"
      ]
     },
     "execution_count": 48,
     "metadata": {},
     "output_type": "execute_result"
    }
   ],
   "source": [
    "getCsv = pd.read_csv('Water.csv')\n",
    "getCsv"
   ]
  },
  {
   "cell_type": "code",
   "execution_count": 52,
   "id": "c1f18eaa",
   "metadata": {},
   "outputs": [
    {
     "data": {
      "text/html": [
       "<div>\n",
       "<style scoped>\n",
       "    .dataframe tbody tr th:only-of-type {\n",
       "        vertical-align: middle;\n",
       "    }\n",
       "\n",
       "    .dataframe tbody tr th {\n",
       "        vertical-align: top;\n",
       "    }\n",
       "\n",
       "    .dataframe thead th {\n",
       "        text-align: right;\n",
       "    }\n",
       "</style>\n",
       "<table border=\"1\" class=\"dataframe\">\n",
       "  <thead>\n",
       "    <tr style=\"text-align: right;\">\n",
       "      <th></th>\n",
       "      <th>Sample ID</th>\n",
       "      <th>pH</th>\n",
       "      <th>Temperature (°C)</th>\n",
       "      <th>Turbidity (NTU)</th>\n",
       "      <th>Dissolved Oxygen (mg/L)</th>\n",
       "      <th>Conductivity (µS/cm)</th>\n",
       "    </tr>\n",
       "  </thead>\n",
       "  <tbody>\n",
       "    <tr>\n",
       "      <th>0</th>\n",
       "      <td>1</td>\n",
       "      <td>7.25</td>\n",
       "      <td>23.1</td>\n",
       "      <td>4.5</td>\n",
       "      <td>7.8</td>\n",
       "      <td>342</td>\n",
       "    </tr>\n",
       "    <tr>\n",
       "      <th>1</th>\n",
       "      <td>2</td>\n",
       "      <td>7.11</td>\n",
       "      <td>22.3</td>\n",
       "      <td>5.1</td>\n",
       "      <td>6.2</td>\n",
       "      <td>335</td>\n",
       "    </tr>\n",
       "    <tr>\n",
       "      <th>2</th>\n",
       "      <td>3</td>\n",
       "      <td>7.03</td>\n",
       "      <td>21.5</td>\n",
       "      <td>3.9</td>\n",
       "      <td>8.3</td>\n",
       "      <td>356</td>\n",
       "    </tr>\n",
       "    <tr>\n",
       "      <th>3</th>\n",
       "      <td>4</td>\n",
       "      <td>7.38</td>\n",
       "      <td>22.9</td>\n",
       "      <td>3.2</td>\n",
       "      <td>9.5</td>\n",
       "      <td>327</td>\n",
       "    </tr>\n",
       "    <tr>\n",
       "      <th>4</th>\n",
       "      <td>5</td>\n",
       "      <td>7.45</td>\n",
       "      <td>20.7</td>\n",
       "      <td>3.8</td>\n",
       "      <td>8.1</td>\n",
       "      <td>352</td>\n",
       "    </tr>\n",
       "  </tbody>\n",
       "</table>\n",
       "</div>"
      ],
      "text/plain": [
       "   Sample ID    pH  Temperature (°C)  Turbidity (NTU)  \\\n",
       "0          1  7.25              23.1              4.5   \n",
       "1          2  7.11              22.3              5.1   \n",
       "2          3  7.03              21.5              3.9   \n",
       "3          4  7.38              22.9              3.2   \n",
       "4          5  7.45              20.7              3.8   \n",
       "\n",
       "   Dissolved Oxygen (mg/L)  Conductivity (µS/cm)  \n",
       "0                      7.8                   342  \n",
       "1                      6.2                   335  \n",
       "2                      8.3                   356  \n",
       "3                      9.5                   327  \n",
       "4                      8.1                   352  "
      ]
     },
     "execution_count": 52,
     "metadata": {},
     "output_type": "execute_result"
    }
   ],
   "source": [
    "getCsv.head()"
   ]
  },
  {
   "cell_type": "code",
   "execution_count": 53,
   "id": "e2575f01",
   "metadata": {},
   "outputs": [
    {
     "data": {
      "text/plain": [
       "Index(['Sample ID', 'pH', 'Temperature (°C)', 'Turbidity (NTU)',\n",
       "       'Dissolved Oxygen (mg/L)', 'Conductivity (µS/cm)'],\n",
       "      dtype='object')"
      ]
     },
     "execution_count": 53,
     "metadata": {},
     "output_type": "execute_result"
    }
   ],
   "source": [
    "getCsv.columns"
   ]
  },
  {
   "cell_type": "code",
   "execution_count": 56,
   "id": "348ec80b",
   "metadata": {},
   "outputs": [
    {
     "data": {
      "text/plain": [
       "0      7.25\n",
       "1      7.11\n",
       "2      7.03\n",
       "3      7.38\n",
       "4      7.45\n",
       "       ... \n",
       "495    7.01\n",
       "496    7.31\n",
       "497    7.02\n",
       "498    7.25\n",
       "499    7.12\n",
       "Name: pH, Length: 500, dtype: float64"
      ]
     },
     "execution_count": 56,
     "metadata": {},
     "output_type": "execute_result"
    }
   ],
   "source": [
    "getCsv.pH"
   ]
  },
  {
   "cell_type": "code",
   "execution_count": 57,
   "id": "faeac0a0",
   "metadata": {},
   "outputs": [
    {
     "data": {
      "text/html": [
       "<div>\n",
       "<style scoped>\n",
       "    .dataframe tbody tr th:only-of-type {\n",
       "        vertical-align: middle;\n",
       "    }\n",
       "\n",
       "    .dataframe tbody tr th {\n",
       "        vertical-align: top;\n",
       "    }\n",
       "\n",
       "    .dataframe thead th {\n",
       "        text-align: right;\n",
       "    }\n",
       "</style>\n",
       "<table border=\"1\" class=\"dataframe\">\n",
       "  <thead>\n",
       "    <tr style=\"text-align: right;\">\n",
       "      <th></th>\n",
       "      <th>Sample ID</th>\n",
       "      <th>pH</th>\n",
       "      <th>Temperature (°C)</th>\n",
       "    </tr>\n",
       "  </thead>\n",
       "  <tbody>\n",
       "    <tr>\n",
       "      <th>0</th>\n",
       "      <td>1</td>\n",
       "      <td>7.25</td>\n",
       "      <td>23.1</td>\n",
       "    </tr>\n",
       "    <tr>\n",
       "      <th>1</th>\n",
       "      <td>2</td>\n",
       "      <td>7.11</td>\n",
       "      <td>22.3</td>\n",
       "    </tr>\n",
       "    <tr>\n",
       "      <th>2</th>\n",
       "      <td>3</td>\n",
       "      <td>7.03</td>\n",
       "      <td>21.5</td>\n",
       "    </tr>\n",
       "    <tr>\n",
       "      <th>3</th>\n",
       "      <td>4</td>\n",
       "      <td>7.38</td>\n",
       "      <td>22.9</td>\n",
       "    </tr>\n",
       "    <tr>\n",
       "      <th>4</th>\n",
       "      <td>5</td>\n",
       "      <td>7.45</td>\n",
       "      <td>20.7</td>\n",
       "    </tr>\n",
       "    <tr>\n",
       "      <th>...</th>\n",
       "      <td>...</td>\n",
       "      <td>...</td>\n",
       "      <td>...</td>\n",
       "    </tr>\n",
       "    <tr>\n",
       "      <th>495</th>\n",
       "      <td>496</td>\n",
       "      <td>7.01</td>\n",
       "      <td>20.8</td>\n",
       "    </tr>\n",
       "    <tr>\n",
       "      <th>496</th>\n",
       "      <td>497</td>\n",
       "      <td>7.31</td>\n",
       "      <td>22.5</td>\n",
       "    </tr>\n",
       "    <tr>\n",
       "      <th>497</th>\n",
       "      <td>498</td>\n",
       "      <td>7.02</td>\n",
       "      <td>21.2</td>\n",
       "    </tr>\n",
       "    <tr>\n",
       "      <th>498</th>\n",
       "      <td>499</td>\n",
       "      <td>7.25</td>\n",
       "      <td>23.0</td>\n",
       "    </tr>\n",
       "    <tr>\n",
       "      <th>499</th>\n",
       "      <td>500</td>\n",
       "      <td>7.12</td>\n",
       "      <td>20.9</td>\n",
       "    </tr>\n",
       "  </tbody>\n",
       "</table>\n",
       "<p>500 rows × 3 columns</p>\n",
       "</div>"
      ],
      "text/plain": [
       "     Sample ID    pH  Temperature (°C)\n",
       "0            1  7.25              23.1\n",
       "1            2  7.11              22.3\n",
       "2            3  7.03              21.5\n",
       "3            4  7.38              22.9\n",
       "4            5  7.45              20.7\n",
       "..         ...   ...               ...\n",
       "495        496  7.01              20.8\n",
       "496        497  7.31              22.5\n",
       "497        498  7.02              21.2\n",
       "498        499  7.25              23.0\n",
       "499        500  7.12              20.9\n",
       "\n",
       "[500 rows x 3 columns]"
      ]
     },
     "execution_count": 57,
     "metadata": {},
     "output_type": "execute_result"
    }
   ],
   "source": [
    "DataFrame(getCsv, columns=['Sample ID', 'pH' ,'Temperature (°C)'])"
   ]
  },
  {
   "cell_type": "code",
   "execution_count": 58,
   "id": "1717319b",
   "metadata": {},
   "outputs": [
    {
     "data": {
      "text/html": [
       "<div>\n",
       "<style scoped>\n",
       "    .dataframe tbody tr th:only-of-type {\n",
       "        vertical-align: middle;\n",
       "    }\n",
       "\n",
       "    .dataframe tbody tr th {\n",
       "        vertical-align: top;\n",
       "    }\n",
       "\n",
       "    .dataframe thead th {\n",
       "        text-align: right;\n",
       "    }\n",
       "</style>\n",
       "<table border=\"1\" class=\"dataframe\">\n",
       "  <thead>\n",
       "    <tr style=\"text-align: right;\">\n",
       "      <th></th>\n",
       "      <th>Sample ID</th>\n",
       "      <th>pH</th>\n",
       "      <th>F</th>\n",
       "      <th>Temperature (°C)</th>\n",
       "    </tr>\n",
       "  </thead>\n",
       "  <tbody>\n",
       "    <tr>\n",
       "      <th>0</th>\n",
       "      <td>1</td>\n",
       "      <td>7.25</td>\n",
       "      <td>NaN</td>\n",
       "      <td>23.1</td>\n",
       "    </tr>\n",
       "    <tr>\n",
       "      <th>1</th>\n",
       "      <td>2</td>\n",
       "      <td>7.11</td>\n",
       "      <td>NaN</td>\n",
       "      <td>22.3</td>\n",
       "    </tr>\n",
       "    <tr>\n",
       "      <th>2</th>\n",
       "      <td>3</td>\n",
       "      <td>7.03</td>\n",
       "      <td>NaN</td>\n",
       "      <td>21.5</td>\n",
       "    </tr>\n",
       "    <tr>\n",
       "      <th>3</th>\n",
       "      <td>4</td>\n",
       "      <td>7.38</td>\n",
       "      <td>NaN</td>\n",
       "      <td>22.9</td>\n",
       "    </tr>\n",
       "    <tr>\n",
       "      <th>4</th>\n",
       "      <td>5</td>\n",
       "      <td>7.45</td>\n",
       "      <td>NaN</td>\n",
       "      <td>20.7</td>\n",
       "    </tr>\n",
       "    <tr>\n",
       "      <th>...</th>\n",
       "      <td>...</td>\n",
       "      <td>...</td>\n",
       "      <td>...</td>\n",
       "      <td>...</td>\n",
       "    </tr>\n",
       "    <tr>\n",
       "      <th>495</th>\n",
       "      <td>496</td>\n",
       "      <td>7.01</td>\n",
       "      <td>NaN</td>\n",
       "      <td>20.8</td>\n",
       "    </tr>\n",
       "    <tr>\n",
       "      <th>496</th>\n",
       "      <td>497</td>\n",
       "      <td>7.31</td>\n",
       "      <td>NaN</td>\n",
       "      <td>22.5</td>\n",
       "    </tr>\n",
       "    <tr>\n",
       "      <th>497</th>\n",
       "      <td>498</td>\n",
       "      <td>7.02</td>\n",
       "      <td>NaN</td>\n",
       "      <td>21.2</td>\n",
       "    </tr>\n",
       "    <tr>\n",
       "      <th>498</th>\n",
       "      <td>499</td>\n",
       "      <td>7.25</td>\n",
       "      <td>NaN</td>\n",
       "      <td>23.0</td>\n",
       "    </tr>\n",
       "    <tr>\n",
       "      <th>499</th>\n",
       "      <td>500</td>\n",
       "      <td>7.12</td>\n",
       "      <td>NaN</td>\n",
       "      <td>20.9</td>\n",
       "    </tr>\n",
       "  </tbody>\n",
       "</table>\n",
       "<p>500 rows × 4 columns</p>\n",
       "</div>"
      ],
      "text/plain": [
       "     Sample ID    pH   F  Temperature (°C)\n",
       "0            1  7.25 NaN              23.1\n",
       "1            2  7.11 NaN              22.3\n",
       "2            3  7.03 NaN              21.5\n",
       "3            4  7.38 NaN              22.9\n",
       "4            5  7.45 NaN              20.7\n",
       "..         ...   ...  ..               ...\n",
       "495        496  7.01 NaN              20.8\n",
       "496        497  7.31 NaN              22.5\n",
       "497        498  7.02 NaN              21.2\n",
       "498        499  7.25 NaN              23.0\n",
       "499        500  7.12 NaN              20.9\n",
       "\n",
       "[500 rows x 4 columns]"
      ]
     },
     "execution_count": 58,
     "metadata": {},
     "output_type": "execute_result"
    }
   ],
   "source": [
    "DataFrame(getCsv, columns=['Sample ID','pH','F','Temperature (°C)'])"
   ]
  },
  {
   "cell_type": "markdown",
   "id": "f7569ee7",
   "metadata": {},
   "source": [
    "Retrieve specific row by using the index"
   ]
  },
  {
   "cell_type": "code",
   "execution_count": 59,
   "id": "5bf8e352",
   "metadata": {},
   "outputs": [
    {
     "data": {
      "text/plain": [
       "Sample ID                    3.00\n",
       "pH                           7.03\n",
       "Temperature (°C)            21.50\n",
       "Turbidity (NTU)              3.90\n",
       "Dissolved Oxygen (mg/L)      8.30\n",
       "Conductivity (µS/cm)       356.00\n",
       "Name: 2, dtype: float64"
      ]
     },
     "execution_count": 59,
     "metadata": {},
     "output_type": "execute_result"
    }
   ],
   "source": [
    "getCsv.loc[2]"
   ]
  },
  {
   "cell_type": "markdown",
   "id": "1e681189",
   "metadata": {},
   "source": [
    "Assign Vlues to entire columns"
   ]
  },
  {
   "cell_type": "code",
   "execution_count": 61,
   "id": "1ce046da",
   "metadata": {},
   "outputs": [
    {
     "data": {
      "text/html": [
       "<div>\n",
       "<style scoped>\n",
       "    .dataframe tbody tr th:only-of-type {\n",
       "        vertical-align: middle;\n",
       "    }\n",
       "\n",
       "    .dataframe tbody tr th {\n",
       "        vertical-align: top;\n",
       "    }\n",
       "\n",
       "    .dataframe thead th {\n",
       "        text-align: right;\n",
       "    }\n",
       "</style>\n",
       "<table border=\"1\" class=\"dataframe\">\n",
       "  <thead>\n",
       "    <tr style=\"text-align: right;\">\n",
       "      <th></th>\n",
       "      <th>Sample ID</th>\n",
       "      <th>pH</th>\n",
       "      <th>Temperature (°C)</th>\n",
       "      <th>Turbidity (NTU)</th>\n",
       "      <th>Dissolved Oxygen (mg/L)</th>\n",
       "      <th>Conductivity (µS/cm)</th>\n",
       "      <th>F</th>\n",
       "    </tr>\n",
       "  </thead>\n",
       "  <tbody>\n",
       "    <tr>\n",
       "      <th>0</th>\n",
       "      <td>1</td>\n",
       "      <td>7.25</td>\n",
       "      <td>23.1</td>\n",
       "      <td>4.5</td>\n",
       "      <td>7.8</td>\n",
       "      <td>342</td>\n",
       "      <td>Nothing</td>\n",
       "    </tr>\n",
       "    <tr>\n",
       "      <th>1</th>\n",
       "      <td>2</td>\n",
       "      <td>7.11</td>\n",
       "      <td>22.3</td>\n",
       "      <td>5.1</td>\n",
       "      <td>6.2</td>\n",
       "      <td>335</td>\n",
       "      <td>Nothing</td>\n",
       "    </tr>\n",
       "    <tr>\n",
       "      <th>2</th>\n",
       "      <td>3</td>\n",
       "      <td>7.03</td>\n",
       "      <td>21.5</td>\n",
       "      <td>3.9</td>\n",
       "      <td>8.3</td>\n",
       "      <td>356</td>\n",
       "      <td>Nothing</td>\n",
       "    </tr>\n",
       "    <tr>\n",
       "      <th>3</th>\n",
       "      <td>4</td>\n",
       "      <td>7.38</td>\n",
       "      <td>22.9</td>\n",
       "      <td>3.2</td>\n",
       "      <td>9.5</td>\n",
       "      <td>327</td>\n",
       "      <td>Nothing</td>\n",
       "    </tr>\n",
       "    <tr>\n",
       "      <th>4</th>\n",
       "      <td>5</td>\n",
       "      <td>7.45</td>\n",
       "      <td>20.7</td>\n",
       "      <td>3.8</td>\n",
       "      <td>8.1</td>\n",
       "      <td>352</td>\n",
       "      <td>Nothing</td>\n",
       "    </tr>\n",
       "    <tr>\n",
       "      <th>...</th>\n",
       "      <td>...</td>\n",
       "      <td>...</td>\n",
       "      <td>...</td>\n",
       "      <td>...</td>\n",
       "      <td>...</td>\n",
       "      <td>...</td>\n",
       "      <td>...</td>\n",
       "    </tr>\n",
       "    <tr>\n",
       "      <th>495</th>\n",
       "      <td>496</td>\n",
       "      <td>7.01</td>\n",
       "      <td>20.8</td>\n",
       "      <td>4.6</td>\n",
       "      <td>7.1</td>\n",
       "      <td>327</td>\n",
       "      <td>Nothing</td>\n",
       "    </tr>\n",
       "    <tr>\n",
       "      <th>496</th>\n",
       "      <td>497</td>\n",
       "      <td>7.31</td>\n",
       "      <td>22.5</td>\n",
       "      <td>3.8</td>\n",
       "      <td>9.4</td>\n",
       "      <td>361</td>\n",
       "      <td>Nothing</td>\n",
       "    </tr>\n",
       "    <tr>\n",
       "      <th>497</th>\n",
       "      <td>498</td>\n",
       "      <td>7.02</td>\n",
       "      <td>21.2</td>\n",
       "      <td>4.7</td>\n",
       "      <td>7.5</td>\n",
       "      <td>334</td>\n",
       "      <td>Nothing</td>\n",
       "    </tr>\n",
       "    <tr>\n",
       "      <th>498</th>\n",
       "      <td>499</td>\n",
       "      <td>7.25</td>\n",
       "      <td>23.0</td>\n",
       "      <td>3.9</td>\n",
       "      <td>8.7</td>\n",
       "      <td>359</td>\n",
       "      <td>Nothing</td>\n",
       "    </tr>\n",
       "    <tr>\n",
       "      <th>499</th>\n",
       "      <td>500</td>\n",
       "      <td>7.12</td>\n",
       "      <td>20.9</td>\n",
       "      <td>4.4</td>\n",
       "      <td>8.2</td>\n",
       "      <td>339</td>\n",
       "      <td>Nothing</td>\n",
       "    </tr>\n",
       "  </tbody>\n",
       "</table>\n",
       "<p>500 rows × 7 columns</p>\n",
       "</div>"
      ],
      "text/plain": [
       "     Sample ID    pH  Temperature (°C)  Turbidity (NTU)  \\\n",
       "0            1  7.25              23.1              4.5   \n",
       "1            2  7.11              22.3              5.1   \n",
       "2            3  7.03              21.5              3.9   \n",
       "3            4  7.38              22.9              3.2   \n",
       "4            5  7.45              20.7              3.8   \n",
       "..         ...   ...               ...              ...   \n",
       "495        496  7.01              20.8              4.6   \n",
       "496        497  7.31              22.5              3.8   \n",
       "497        498  7.02              21.2              4.7   \n",
       "498        499  7.25              23.0              3.9   \n",
       "499        500  7.12              20.9              4.4   \n",
       "\n",
       "     Dissolved Oxygen (mg/L)  Conductivity (µS/cm)        F  \n",
       "0                        7.8                   342  Nothing  \n",
       "1                        6.2                   335  Nothing  \n",
       "2                        8.3                   356  Nothing  \n",
       "3                        9.5                   327  Nothing  \n",
       "4                        8.1                   352  Nothing  \n",
       "..                       ...                   ...      ...  \n",
       "495                      7.1                   327  Nothing  \n",
       "496                      9.4                   361  Nothing  \n",
       "497                      7.5                   334  Nothing  \n",
       "498                      8.7                   359  Nothing  \n",
       "499                      8.2                   339  Nothing  \n",
       "\n",
       "[500 rows x 7 columns]"
      ]
     },
     "execution_count": 61,
     "metadata": {},
     "output_type": "execute_result"
    }
   ],
   "source": [
    "getCsv['F'] = \"Nothing\"\n",
    "getCsv"
   ]
  },
  {
   "cell_type": "code",
   "execution_count": 67,
   "id": "c6aca078",
   "metadata": {},
   "outputs": [
    {
     "data": {
      "text/html": [
       "<div>\n",
       "<style scoped>\n",
       "    .dataframe tbody tr th:only-of-type {\n",
       "        vertical-align: middle;\n",
       "    }\n",
       "\n",
       "    .dataframe tbody tr th {\n",
       "        vertical-align: top;\n",
       "    }\n",
       "\n",
       "    .dataframe thead th {\n",
       "        text-align: right;\n",
       "    }\n",
       "</style>\n",
       "<table border=\"1\" class=\"dataframe\">\n",
       "  <thead>\n",
       "    <tr style=\"text-align: right;\">\n",
       "      <th></th>\n",
       "      <th>Sample ID</th>\n",
       "      <th>pH</th>\n",
       "      <th>Temperature (°C)</th>\n",
       "      <th>Turbidity (NTU)</th>\n",
       "      <th>Dissolved Oxygen (mg/L)</th>\n",
       "      <th>Conductivity (µS/cm)</th>\n",
       "      <th>F</th>\n",
       "    </tr>\n",
       "  </thead>\n",
       "  <tbody>\n",
       "    <tr>\n",
       "      <th>0</th>\n",
       "      <td>1</td>\n",
       "      <td>7.25</td>\n",
       "      <td>23.1</td>\n",
       "      <td>4.5</td>\n",
       "      <td>7.8</td>\n",
       "      <td>342</td>\n",
       "      <td>0</td>\n",
       "    </tr>\n",
       "    <tr>\n",
       "      <th>1</th>\n",
       "      <td>2</td>\n",
       "      <td>7.11</td>\n",
       "      <td>22.3</td>\n",
       "      <td>5.1</td>\n",
       "      <td>6.2</td>\n",
       "      <td>335</td>\n",
       "      <td>1</td>\n",
       "    </tr>\n",
       "    <tr>\n",
       "      <th>2</th>\n",
       "      <td>3</td>\n",
       "      <td>7.03</td>\n",
       "      <td>21.5</td>\n",
       "      <td>3.9</td>\n",
       "      <td>8.3</td>\n",
       "      <td>356</td>\n",
       "      <td>2</td>\n",
       "    </tr>\n",
       "    <tr>\n",
       "      <th>3</th>\n",
       "      <td>4</td>\n",
       "      <td>7.38</td>\n",
       "      <td>22.9</td>\n",
       "      <td>3.2</td>\n",
       "      <td>9.5</td>\n",
       "      <td>327</td>\n",
       "      <td>3</td>\n",
       "    </tr>\n",
       "    <tr>\n",
       "      <th>4</th>\n",
       "      <td>5</td>\n",
       "      <td>7.45</td>\n",
       "      <td>20.7</td>\n",
       "      <td>3.8</td>\n",
       "      <td>8.1</td>\n",
       "      <td>352</td>\n",
       "      <td>4</td>\n",
       "    </tr>\n",
       "    <tr>\n",
       "      <th>...</th>\n",
       "      <td>...</td>\n",
       "      <td>...</td>\n",
       "      <td>...</td>\n",
       "      <td>...</td>\n",
       "      <td>...</td>\n",
       "      <td>...</td>\n",
       "      <td>...</td>\n",
       "    </tr>\n",
       "    <tr>\n",
       "      <th>495</th>\n",
       "      <td>496</td>\n",
       "      <td>7.01</td>\n",
       "      <td>20.8</td>\n",
       "      <td>4.6</td>\n",
       "      <td>7.1</td>\n",
       "      <td>327</td>\n",
       "      <td>495</td>\n",
       "    </tr>\n",
       "    <tr>\n",
       "      <th>496</th>\n",
       "      <td>497</td>\n",
       "      <td>7.31</td>\n",
       "      <td>22.5</td>\n",
       "      <td>3.8</td>\n",
       "      <td>9.4</td>\n",
       "      <td>361</td>\n",
       "      <td>496</td>\n",
       "    </tr>\n",
       "    <tr>\n",
       "      <th>497</th>\n",
       "      <td>498</td>\n",
       "      <td>7.02</td>\n",
       "      <td>21.2</td>\n",
       "      <td>4.7</td>\n",
       "      <td>7.5</td>\n",
       "      <td>334</td>\n",
       "      <td>497</td>\n",
       "    </tr>\n",
       "    <tr>\n",
       "      <th>498</th>\n",
       "      <td>499</td>\n",
       "      <td>7.25</td>\n",
       "      <td>23.0</td>\n",
       "      <td>3.9</td>\n",
       "      <td>8.7</td>\n",
       "      <td>359</td>\n",
       "      <td>498</td>\n",
       "    </tr>\n",
       "    <tr>\n",
       "      <th>499</th>\n",
       "      <td>500</td>\n",
       "      <td>7.12</td>\n",
       "      <td>20.9</td>\n",
       "      <td>4.4</td>\n",
       "      <td>8.2</td>\n",
       "      <td>339</td>\n",
       "      <td>499</td>\n",
       "    </tr>\n",
       "  </tbody>\n",
       "</table>\n",
       "<p>500 rows × 7 columns</p>\n",
       "</div>"
      ],
      "text/plain": [
       "     Sample ID    pH  Temperature (°C)  Turbidity (NTU)  \\\n",
       "0            1  7.25              23.1              4.5   \n",
       "1            2  7.11              22.3              5.1   \n",
       "2            3  7.03              21.5              3.9   \n",
       "3            4  7.38              22.9              3.2   \n",
       "4            5  7.45              20.7              3.8   \n",
       "..         ...   ...               ...              ...   \n",
       "495        496  7.01              20.8              4.6   \n",
       "496        497  7.31              22.5              3.8   \n",
       "497        498  7.02              21.2              4.7   \n",
       "498        499  7.25              23.0              3.9   \n",
       "499        500  7.12              20.9              4.4   \n",
       "\n",
       "     Dissolved Oxygen (mg/L)  Conductivity (µS/cm)    F  \n",
       "0                        7.8                   342    0  \n",
       "1                        6.2                   335    1  \n",
       "2                        8.3                   356    2  \n",
       "3                        9.5                   327    3  \n",
       "4                        8.1                   352    4  \n",
       "..                       ...                   ...  ...  \n",
       "495                      7.1                   327  495  \n",
       "496                      9.4                   361  496  \n",
       "497                      7.5                   334  497  \n",
       "498                      8.7                   359  498  \n",
       "499                      8.2                   339  499  \n",
       "\n",
       "[500 rows x 7 columns]"
      ]
     },
     "execution_count": 67,
     "metadata": {},
     "output_type": "execute_result"
    }
   ],
   "source": [
    "getCsv['F']= np.arange(500)\n",
    "getCsv"
   ]
  },
  {
   "cell_type": "code",
   "execution_count": 68,
   "id": "622577ee",
   "metadata": {},
   "outputs": [
    {
     "data": {
      "text/html": [
       "<div>\n",
       "<style scoped>\n",
       "    .dataframe tbody tr th:only-of-type {\n",
       "        vertical-align: middle;\n",
       "    }\n",
       "\n",
       "    .dataframe tbody tr th {\n",
       "        vertical-align: top;\n",
       "    }\n",
       "\n",
       "    .dataframe thead th {\n",
       "        text-align: right;\n",
       "    }\n",
       "</style>\n",
       "<table border=\"1\" class=\"dataframe\">\n",
       "  <thead>\n",
       "    <tr style=\"text-align: right;\">\n",
       "      <th></th>\n",
       "      <th>Sample ID</th>\n",
       "      <th>pH</th>\n",
       "      <th>Temperature (°C)</th>\n",
       "      <th>Turbidity (NTU)</th>\n",
       "      <th>Dissolved Oxygen (mg/L)</th>\n",
       "      <th>Conductivity (µS/cm)</th>\n",
       "    </tr>\n",
       "  </thead>\n",
       "  <tbody>\n",
       "    <tr>\n",
       "      <th>0</th>\n",
       "      <td>1</td>\n",
       "      <td>7.25</td>\n",
       "      <td>23.1</td>\n",
       "      <td>4.5</td>\n",
       "      <td>7.8</td>\n",
       "      <td>342</td>\n",
       "    </tr>\n",
       "    <tr>\n",
       "      <th>1</th>\n",
       "      <td>2</td>\n",
       "      <td>7.11</td>\n",
       "      <td>22.3</td>\n",
       "      <td>5.1</td>\n",
       "      <td>6.2</td>\n",
       "      <td>335</td>\n",
       "    </tr>\n",
       "    <tr>\n",
       "      <th>2</th>\n",
       "      <td>3</td>\n",
       "      <td>7.03</td>\n",
       "      <td>21.5</td>\n",
       "      <td>3.9</td>\n",
       "      <td>8.3</td>\n",
       "      <td>356</td>\n",
       "    </tr>\n",
       "    <tr>\n",
       "      <th>3</th>\n",
       "      <td>4</td>\n",
       "      <td>7.38</td>\n",
       "      <td>22.9</td>\n",
       "      <td>3.2</td>\n",
       "      <td>9.5</td>\n",
       "      <td>327</td>\n",
       "    </tr>\n",
       "    <tr>\n",
       "      <th>4</th>\n",
       "      <td>5</td>\n",
       "      <td>7.45</td>\n",
       "      <td>20.7</td>\n",
       "      <td>3.8</td>\n",
       "      <td>8.1</td>\n",
       "      <td>352</td>\n",
       "    </tr>\n",
       "    <tr>\n",
       "      <th>...</th>\n",
       "      <td>...</td>\n",
       "      <td>...</td>\n",
       "      <td>...</td>\n",
       "      <td>...</td>\n",
       "      <td>...</td>\n",
       "      <td>...</td>\n",
       "    </tr>\n",
       "    <tr>\n",
       "      <th>495</th>\n",
       "      <td>496</td>\n",
       "      <td>7.01</td>\n",
       "      <td>20.8</td>\n",
       "      <td>4.6</td>\n",
       "      <td>7.1</td>\n",
       "      <td>327</td>\n",
       "    </tr>\n",
       "    <tr>\n",
       "      <th>496</th>\n",
       "      <td>497</td>\n",
       "      <td>7.31</td>\n",
       "      <td>22.5</td>\n",
       "      <td>3.8</td>\n",
       "      <td>9.4</td>\n",
       "      <td>361</td>\n",
       "    </tr>\n",
       "    <tr>\n",
       "      <th>497</th>\n",
       "      <td>498</td>\n",
       "      <td>7.02</td>\n",
       "      <td>21.2</td>\n",
       "      <td>4.7</td>\n",
       "      <td>7.5</td>\n",
       "      <td>334</td>\n",
       "    </tr>\n",
       "    <tr>\n",
       "      <th>498</th>\n",
       "      <td>499</td>\n",
       "      <td>7.25</td>\n",
       "      <td>23.0</td>\n",
       "      <td>3.9</td>\n",
       "      <td>8.7</td>\n",
       "      <td>359</td>\n",
       "    </tr>\n",
       "    <tr>\n",
       "      <th>499</th>\n",
       "      <td>500</td>\n",
       "      <td>7.12</td>\n",
       "      <td>20.9</td>\n",
       "      <td>4.4</td>\n",
       "      <td>8.2</td>\n",
       "      <td>339</td>\n",
       "    </tr>\n",
       "  </tbody>\n",
       "</table>\n",
       "<p>500 rows × 6 columns</p>\n",
       "</div>"
      ],
      "text/plain": [
       "     Sample ID    pH  Temperature (°C)  Turbidity (NTU)  \\\n",
       "0            1  7.25              23.1              4.5   \n",
       "1            2  7.11              22.3              5.1   \n",
       "2            3  7.03              21.5              3.9   \n",
       "3            4  7.38              22.9              3.2   \n",
       "4            5  7.45              20.7              3.8   \n",
       "..         ...   ...               ...              ...   \n",
       "495        496  7.01              20.8              4.6   \n",
       "496        497  7.31              22.5              3.8   \n",
       "497        498  7.02              21.2              4.7   \n",
       "498        499  7.25              23.0              3.9   \n",
       "499        500  7.12              20.9              4.4   \n",
       "\n",
       "     Dissolved Oxygen (mg/L)  Conductivity (µS/cm)  \n",
       "0                        7.8                   342  \n",
       "1                        6.2                   335  \n",
       "2                        8.3                   356  \n",
       "3                        9.5                   327  \n",
       "4                        8.1                   352  \n",
       "..                       ...                   ...  \n",
       "495                      7.1                   327  \n",
       "496                      9.4                   361  \n",
       "497                      7.5                   334  \n",
       "498                      8.7                   359  \n",
       "499                      8.2                   339  \n",
       "\n",
       "[500 rows x 6 columns]"
      ]
     },
     "execution_count": 68,
     "metadata": {},
     "output_type": "execute_result"
    }
   ],
   "source": [
    "del getCsv['F']\n",
    "getCsv"
   ]
  },
  {
   "cell_type": "code",
   "execution_count": 70,
   "id": "69fcce2b",
   "metadata": {},
   "outputs": [],
   "source": [
    "data = {'Name': ['Maather Yousuf', 'Rana Yousuf', 'Aisha Salim'],\n",
    "        'Age ': [23, 4, 50]}"
   ]
  },
  {
   "cell_type": "code",
   "execution_count": 71,
   "id": "2bbd0fd0",
   "metadata": {},
   "outputs": [
    {
     "data": {
      "text/html": [
       "<div>\n",
       "<style scoped>\n",
       "    .dataframe tbody tr th:only-of-type {\n",
       "        vertical-align: middle;\n",
       "    }\n",
       "\n",
       "    .dataframe tbody tr th {\n",
       "        vertical-align: top;\n",
       "    }\n",
       "\n",
       "    .dataframe thead th {\n",
       "        text-align: right;\n",
       "    }\n",
       "</style>\n",
       "<table border=\"1\" class=\"dataframe\">\n",
       "  <thead>\n",
       "    <tr style=\"text-align: right;\">\n",
       "      <th></th>\n",
       "      <th>Name</th>\n",
       "      <th>Age</th>\n",
       "    </tr>\n",
       "  </thead>\n",
       "  <tbody>\n",
       "    <tr>\n",
       "      <th>0</th>\n",
       "      <td>Maather Yousuf</td>\n",
       "      <td>23</td>\n",
       "    </tr>\n",
       "    <tr>\n",
       "      <th>1</th>\n",
       "      <td>Rana Yousuf</td>\n",
       "      <td>4</td>\n",
       "    </tr>\n",
       "    <tr>\n",
       "      <th>2</th>\n",
       "      <td>Aisha Salim</td>\n",
       "      <td>50</td>\n",
       "    </tr>\n",
       "  </tbody>\n",
       "</table>\n",
       "</div>"
      ],
      "text/plain": [
       "             Name  Age \n",
       "0  Maather Yousuf    23\n",
       "1     Rana Yousuf     4\n",
       "2     Aisha Salim    50"
      ]
     },
     "execution_count": 71,
     "metadata": {},
     "output_type": "execute_result"
    }
   ],
   "source": [
    "DataFrame(data)"
   ]
  },
  {
   "cell_type": "code",
   "execution_count": 74,
   "id": "a69f0afe",
   "metadata": {},
   "outputs": [
    {
     "data": {
      "text/html": [
       "<div>\n",
       "<style scoped>\n",
       "    .dataframe tbody tr th:only-of-type {\n",
       "        vertical-align: middle;\n",
       "    }\n",
       "\n",
       "    .dataframe tbody tr th {\n",
       "        vertical-align: top;\n",
       "    }\n",
       "\n",
       "    .dataframe thead th {\n",
       "        text-align: right;\n",
       "    }\n",
       "</style>\n",
       "<table border=\"1\" class=\"dataframe\">\n",
       "  <thead>\n",
       "    <tr style=\"text-align: right;\">\n",
       "      <th></th>\n",
       "      <th>M</th>\n",
       "      <th>R</th>\n",
       "      <th>A</th>\n",
       "    </tr>\n",
       "  </thead>\n",
       "  <tbody>\n",
       "    <tr>\n",
       "      <th>Name</th>\n",
       "      <td>Maather Yousuf</td>\n",
       "      <td>Rana Yousuf</td>\n",
       "      <td>Aisha Salim</td>\n",
       "    </tr>\n",
       "    <tr>\n",
       "      <th>Age</th>\n",
       "      <td>23</td>\n",
       "      <td>4</td>\n",
       "      <td>50</td>\n",
       "    </tr>\n",
       "  </tbody>\n",
       "</table>\n",
       "</div>"
      ],
      "text/plain": [
       "                   M            R            A\n",
       "Name  Maather Yousuf  Rana Yousuf  Aisha Salim\n",
       "Age               23            4           50"
      ]
     },
     "execution_count": 74,
     "metadata": {},
     "output_type": "execute_result"
    }
   ],
   "source": [
    "DataFrame(np.array([['Maather Yousuf', 'Rana Yousuf', 'Aisha Salim'], [23, 4, 50]]),columns=['M', 'R', 'A'] ,index=['Name', 'Age'])"
   ]
  }
 ],
 "metadata": {
  "kernelspec": {
   "display_name": "Python 3 (ipykernel)",
   "language": "python",
   "name": "python3"
  },
  "language_info": {
   "codemirror_mode": {
    "name": "ipython",
    "version": 3
   },
   "file_extension": ".py",
   "mimetype": "text/x-python",
   "name": "python",
   "nbconvert_exporter": "python",
   "pygments_lexer": "ipython3",
   "version": "3.10.9"
  }
 },
 "nbformat": 4,
 "nbformat_minor": 5
}
