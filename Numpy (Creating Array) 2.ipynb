{
 "cells": [
  {
   "cell_type": "markdown",
   "id": "77b4f601",
   "metadata": {},
   "source": [
    "####### Create 2*2 NumPy array and multiply it by 2 "
   ]
  },
  {
   "cell_type": "code",
   "execution_count": 1,
   "id": "277fa000",
   "metadata": {},
   "outputs": [],
   "source": [
    "import numpy as np"
   ]
  },
  {
   "cell_type": "code",
   "execution_count": 7,
   "id": "e3bf607f",
   "metadata": {},
   "outputs": [
    {
     "name": "stdout",
     "output_type": "stream",
     "text": [
      "[[ 2  4]\n",
      " [ 8 10]]\n"
     ]
    }
   ],
   "source": [
    "li1 = [1,2]\n",
    "li2 = [4,5]\n",
    "li = [li1,li2]\n",
    "ar = np.array(li)\n",
    "print(ar*2)"
   ]
  },
  {
   "cell_type": "markdown",
   "id": "84465fee",
   "metadata": {},
   "source": [
    "####### Create 3*3 Numpy array and add 5 to each element."
   ]
  },
  {
   "cell_type": "code",
   "execution_count": 8,
   "id": "c6442d87",
   "metadata": {},
   "outputs": [
    {
     "name": "stdout",
     "output_type": "stream",
     "text": [
      "[[ 6  7  8]\n",
      " [ 9 10 12]\n",
      " [13 14 15]]\n"
     ]
    }
   ],
   "source": [
    "li1 = [1,2,3]\n",
    "li2 = [4,5,7]\n",
    "li3 = [8,9,10]\n",
    "li = [li1,li2,li3]\n",
    "ar = np.array(li)\n",
    "print(ar+5)"
   ]
  },
  {
   "cell_type": "markdown",
   "id": "6b875018",
   "metadata": {},
   "source": [
    "####### Create 4*4 Numpy array and subtract 10 from each element."
   ]
  },
  {
   "cell_type": "code",
   "execution_count": 9,
   "id": "af1679ba",
   "metadata": {},
   "outputs": [
    {
     "name": "stdout",
     "output_type": "stream",
     "text": [
      "[[ -9  -8  -7   2]\n",
      " [ -6  -5  -3  35]\n",
      " [ -2  -1   0  79]\n",
      " [  1   2   3 101]]\n"
     ]
    }
   ],
   "source": [
    "li1 = [1,2,3,12]\n",
    "li2 = [4,5,7,45]\n",
    "li3 = [8,9,10,89]\n",
    "li4 = [11,12,13,111]\n",
    "li = [li1,li2,li3,li4]\n",
    "ar = np.array(li)\n",
    "print(ar-10)"
   ]
  },
  {
   "cell_type": "markdown",
   "id": "249a7f63",
   "metadata": {},
   "source": [
    "####### Create 5*5 Numpy array and divide each element by 2."
   ]
  },
  {
   "cell_type": "code",
   "execution_count": 12,
   "id": "2c457fa1",
   "metadata": {},
   "outputs": [
    {
     "name": "stdout",
     "output_type": "stream",
     "text": [
      "[[  0.5   1.    1.5   6.   15.5]\n",
      " [  2.    2.5   3.5  22.5  37. ]\n",
      " [  4.    4.5   5.   44.5  54. ]\n",
      " [  5.5   6.    6.5  55.5 106.5]\n",
      " [  7.    7.5   8.   70.5 258. ]]\n"
     ]
    }
   ],
   "source": [
    "ar = np.array([[1,2,3,12,31], [4,5,7,45,74], [8,9,10,89,108],[11,12,13,111,213], [14,15,16,141,516]])\n",
    "print(ar/2)"
   ]
  },
  {
   "cell_type": "markdown",
   "id": "603cd233",
   "metadata": {},
   "source": [
    "####### Create 6*6 Numpy array and calculate the square root of each element."
   ]
  },
  {
   "cell_type": "code",
   "execution_count": 15,
   "id": "0f5283b7",
   "metadata": {},
   "outputs": [
    {
     "name": "stdout",
     "output_type": "stream",
     "text": [
      "[[ 1.          1.41421356  1.73205081  3.46410162  5.56776436  4.79583152]\n",
      " [ 2.          2.23606798  2.64575131  6.70820393  8.60232527  7.54983444]\n",
      " [ 2.82842712  3.          3.16227766  9.43398113 10.39230485  9.53939201]\n",
      " [ 3.31662479  3.46410162  3.60555128 10.53565375 14.59451952 11.        ]\n",
      " [ 3.74165739  3.87298335  4.         11.87434209 22.71563338 24.77902339]\n",
      " [ 4.12310563  4.24264069  4.35889894  8.42614977  9.          9.8488578 ]]\n"
     ]
    }
   ],
   "source": [
    "ar = np.array([[1,2,3,12,31,23], [4,5,7,45,74,57], [8,9,10,89,108,91],\n",
    "               [11,12,13,111,213,121], [14,15,16,141,516,614], [17,18,19,71,81,97]])\n",
    "print(ar**0.5)"
   ]
  },
  {
   "cell_type": "code",
   "execution_count": null,
   "id": "07271211",
   "metadata": {},
   "outputs": [],
   "source": []
  }
 ],
 "metadata": {
  "kernelspec": {
   "display_name": "Python 3 (ipykernel)",
   "language": "python",
   "name": "python3"
  },
  "language_info": {
   "codemirror_mode": {
    "name": "ipython",
    "version": 3
   },
   "file_extension": ".py",
   "mimetype": "text/x-python",
   "name": "python",
   "nbconvert_exporter": "python",
   "pygments_lexer": "ipython3",
   "version": "3.9.13"
  }
 },
 "nbformat": 4,
 "nbformat_minor": 5
}
