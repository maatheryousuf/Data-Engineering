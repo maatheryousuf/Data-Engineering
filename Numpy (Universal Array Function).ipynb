{
 "cells": [
  {
   "cell_type": "markdown",
   "id": "096961f6",
   "metadata": {},
   "source": [
    "Numpy (Universal Array Function)"
   ]
  },
  {
   "cell_type": "code",
   "execution_count": 9,
   "id": "da8cadbf",
   "metadata": {},
   "outputs": [],
   "source": [
    "import numpy as np"
   ]
  },
  {
   "cell_type": "markdown",
   "id": "945fed47",
   "metadata": {},
   "source": [
    "2. Create a NumPy array with shape (4,4) and fill it with random numbers. Use the np.sin() function to compute the sine of each element in the array."
   ]
  },
  {
   "cell_type": "code",
   "execution_count": 10,
   "id": "7519d709",
   "metadata": {},
   "outputs": [
    {
     "name": "stdout",
     "output_type": "stream",
     "text": [
      "Before: [[0.68864424 0.53729573 0.98467271 0.32520877]\n",
      " [0.49285925 0.70848915 0.79649641 0.40092599]\n",
      " [0.06525904 0.35163824 0.50501403 0.54429136]\n",
      " [0.84441608 0.10395887 0.96648981 0.68037511]]\n",
      "After: [[0.63549097 0.51181464 0.8330911  0.31950662]\n",
      " [0.47314678 0.65068726 0.71491072 0.39027106]\n",
      " [0.06521273 0.34443627 0.48381972 0.51781198]\n",
      " [0.74758342 0.10377171 0.82289633 0.62908466]]\n"
     ]
    }
   ],
   "source": [
    "ar = np.random.rand(4,4)\n",
    "print(\"Before:\", ar)\n",
    "s = np.sin(ar)\n",
    "print('After:', s)"
   ]
  },
  {
   "cell_type": "markdown",
   "id": "fff0099c",
   "metadata": {},
   "source": [
    "3. Create a NumPy array with shape (5,5) and fill it with random numbers. Use the np.log() function to compute the natural logarithm of each element in the array."
   ]
  },
  {
   "cell_type": "code",
   "execution_count": 11,
   "id": "7df4e594",
   "metadata": {},
   "outputs": [
    {
     "name": "stdout",
     "output_type": "stream",
     "text": [
      "Before: [[0.58925522 0.24801212 0.61326036 0.67903658 0.00801514]\n",
      " [0.3018749  0.40310493 0.90801726 0.96874649 0.61659945]\n",
      " [0.07823674 0.32457912 0.65207919 0.93826829 0.55262838]\n",
      " [0.68231392 0.63192641 0.0506093  0.26599027 0.29750558]\n",
      " [0.77559216 0.41783565 0.648515   0.03925492 0.1361188 ]]\n",
      "After: [[-0.52889588 -1.39427764 -0.4889657  -0.38708028 -4.82642304]\n",
      " [-1.19774258 -0.90855839 -0.09649189 -0.03175232 -0.48353565]\n",
      " [-2.5480159  -1.12522596 -0.42758926 -0.06371934 -0.59306951]\n",
      " [-0.38226543 -0.45898232 -2.98361991 -1.32429554 -1.21232231]\n",
      " [-0.25412847 -0.87266711 -0.43307014 -3.2376786  -1.99422721]]\n"
     ]
    }
   ],
   "source": [
    "ar = np.random.rand(5,5)\n",
    "print(\"Before:\", ar)\n",
    "s = np.log(ar)\n",
    "print('After:', s)"
   ]
  },
  {
   "cell_type": "markdown",
   "id": "80365541",
   "metadata": {},
   "source": [
    "4. Create a NumPy array with shape (2,2) and fill it with random numbers. Use the np.sqrt() function to compute the square root of each element in the array."
   ]
  },
  {
   "cell_type": "code",
   "execution_count": 14,
   "id": "d1d73f4c",
   "metadata": {
    "scrolled": true
   },
   "outputs": [
    {
     "name": "stdout",
     "output_type": "stream",
     "text": [
      "Before: [[0.14298496 0.1647797 ]\n",
      " [0.66209632 0.99966843]]\n",
      "After: [[0.37813352 0.40593066]\n",
      " [0.81369301 0.9998342 ]]\n"
     ]
    }
   ],
   "source": [
    "ar = np.random.rand(2,2)\n",
    "print(\"Before:\", ar)\n",
    "s = np.sqrt(ar)\n",
    "print('After:', s)"
   ]
  },
  {
   "cell_type": "markdown",
   "id": "a092c404",
   "metadata": {},
   "source": [
    "8. Create a NumPy array with 5 random integers between 1 and 10. Use the maximum function to find the largest element in the array."
   ]
  },
  {
   "cell_type": "code",
   "execution_count": 18,
   "id": "8b0cb8b5",
   "metadata": {},
   "outputs": [
    {
     "name": "stdout",
     "output_type": "stream",
     "text": [
      "Random numbers [2 6 3 4 2]\n",
      "Maximum : 6\n"
     ]
    }
   ],
   "source": [
    "ar = np.random.randint(1,11,5)\n",
    "print('Random numbers', ar)\n",
    "print('Maximum :', np.max(ar))"
   ]
  },
  {
   "cell_type": "markdown",
   "id": "1232a1fd",
   "metadata": {},
   "source": [
    "9. Create a NumPy array with 10 random floating-point numbers between 0 and 1. Use the round function to round each element to the nearest integer."
   ]
  },
  {
   "cell_type": "code",
   "execution_count": 25,
   "id": "18f664bd",
   "metadata": {},
   "outputs": [
    {
     "name": "stdout",
     "output_type": "stream",
     "text": [
      "Random numbers [ 0.90336728  0.75793563 -0.29948     0.2913276   0.61454299  0.46022435\n",
      " -0.0438216  -0.04204033  1.34278737  0.84867902]\n",
      "Nearest intergers : [ 1.  1. -0.  0.  1.  0. -0. -0.  1.  1.]\n"
     ]
    }
   ],
   "source": [
    "ar = np.random.normal(0,1,10)\n",
    "print('Random numbers', ar)\n",
    "print('Nearest intergers :', np.round(ar))"
   ]
  },
  {
   "cell_type": "markdown",
   "id": "95744290",
   "metadata": {},
   "source": [
    "10. Create a NumPy array with 7 random integers between 1 and 100. Use the argmax function to find the index of the largest element in the array."
   ]
  },
  {
   "cell_type": "code",
   "execution_count": 27,
   "id": "5b51fda8",
   "metadata": {},
   "outputs": [
    {
     "name": "stdout",
     "output_type": "stream",
     "text": [
      "Random numbers [24 35 78 15  2 11 55]\n",
      "The index of the maximum number : 2\n"
     ]
    }
   ],
   "source": [
    "ar = np.random.randint(1,100,7)\n",
    "print('Random numbers', ar)\n",
    "print('The index of the maximum number :', np.argmax(ar))"
   ]
  },
  {
   "cell_type": "markdown",
   "id": "b70abd63",
   "metadata": {},
   "source": [
    "11. Create two NumPy arrays with the same shape, each filled with random integers between 1 and 10. Use the add function to add the two arrays together element-wise."
   ]
  },
  {
   "cell_type": "code",
   "execution_count": 30,
   "id": "426083e6",
   "metadata": {},
   "outputs": [
    {
     "name": "stdout",
     "output_type": "stream",
     "text": [
      "Random number 1: 2\n",
      "Random number 2: 4\n",
      "The addition of the two numbers : 6\n"
     ]
    }
   ],
   "source": [
    "ar1 = np.random.randint(1,10)\n",
    "ar2 = np.random.randint(1,10)\n",
    "print('Random number 1:', ar1)\n",
    "print('Random number 2:', ar2)\n",
    "print('The addition of the two numbers :', np.add(ar1, ar2))"
   ]
  },
  {
   "cell_type": "markdown",
   "id": "890df677",
   "metadata": {},
   "source": [
    "12. Create a NumPy array with 12 random integers between 0 and 100. Use the clip function to limit the values in the array to a range between 10 and 90."
   ]
  },
  {
   "cell_type": "code",
   "execution_count": 39,
   "id": "30f62681",
   "metadata": {},
   "outputs": [
    {
     "name": "stdout",
     "output_type": "stream",
     "text": [
      "[50 15 49 60 34 27 67 35 17 49 45 70]\n"
     ]
    }
   ],
   "source": [
    "ar = np.random.randint(0,100,12)\n",
    "\n",
    "print(ar.clip(10,90))"
   ]
  },
  {
   "cell_type": "markdown",
   "id": "be141fe4",
   "metadata": {},
   "source": []
  }
 ],
 "metadata": {
  "kernelspec": {
   "display_name": "Python 3 (ipykernel)",
   "language": "python",
   "name": "python3"
  },
  "language_info": {
   "codemirror_mode": {
    "name": "ipython",
    "version": 3
   },
   "file_extension": ".py",
   "mimetype": "text/x-python",
   "name": "python",
   "nbconvert_exporter": "python",
   "pygments_lexer": "ipython3",
   "version": "3.10.9"
  }
 },
 "nbformat": 4,
 "nbformat_minor": 5
}
