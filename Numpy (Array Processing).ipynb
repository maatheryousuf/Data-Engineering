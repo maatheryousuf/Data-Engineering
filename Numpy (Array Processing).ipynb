{
 "cells": [
  {
   "cell_type": "markdown",
   "id": "57fce0e7",
   "metadata": {},
   "source": [
    "Numpy (Array Processing)"
   ]
  },
  {
   "cell_type": "markdown",
   "id": "e9352b75",
   "metadata": {},
   "source": [
    "1. Create a NumPy array with 10 random integers between 0 and 100."
   ]
  },
  {
   "cell_type": "code",
   "execution_count": 3,
   "id": "7e74ff87",
   "metadata": {},
   "outputs": [],
   "source": [
    "import numpy as np"
   ]
  },
  {
   "cell_type": "code",
   "execution_count": 4,
   "id": "18b603b7",
   "metadata": {},
   "outputs": [
    {
     "data": {
      "text/plain": [
       "array([28, 69, 12, 28, 22,  1, 96, 67, 28, 54])"
      ]
     },
     "execution_count": 4,
     "metadata": {},
     "output_type": "execute_result"
    }
   ],
   "source": [
    "arr = np.random.randint(0,100,10)\n",
    "arr"
   ]
  },
  {
   "cell_type": "markdown",
   "id": "c8c2567d",
   "metadata": {},
   "source": [
    "2. Use the np.where() function to create a new array with the same shape as the previous one, where values less than 50 are replaced with -1 and values greater than or equal to 50 are replaced with 1."
   ]
  },
  {
   "cell_type": "code",
   "execution_count": 29,
   "id": "71f6caaf",
   "metadata": {},
   "outputs": [
    {
     "name": "stdout",
     "output_type": "stream",
     "text": [
      "arr values:  [50 54 19 25 86 39 90 72 23 66]\n",
      "numpy.where: [ 1  1 -1 -1  1 -1  1  1 -1  1]\n"
     ]
    }
   ],
   "source": [
    "arr = np.random.randint(0,100,10)\n",
    "print('arr values: ', arr)\n",
    "print('numpy.where:', np.where(50<=arr, 1, -1))"
   ]
  },
  {
   "cell_type": "markdown",
   "id": "36a202dc",
   "metadata": {},
   "source": [
    "3. Calculate the mean, median, and standard deviation of the original array."
   ]
  },
  {
   "cell_type": "code",
   "execution_count": 54,
   "id": "9b0704bf",
   "metadata": {},
   "outputs": [
    {
     "name": "stdout",
     "output_type": "stream",
     "text": [
      "Mean   : 45.7\n",
      "Median : 36.0\n",
      "Standard Deviation: 25.550146770615626\n"
     ]
    }
   ],
   "source": [
    "arr = np.random.randint(0,100,10)\n",
    "print('Mean   :', np.mean(arr))\n",
    "print('Median :', np.median(arr))\n",
    "print('Standard Deviation:', np.std(arr))"
   ]
  },
  {
   "cell_type": "markdown",
   "id": "b1f7343b",
   "metadata": {},
   "source": [
    "4. Create a boolean array that is True where the values in the original array are even, and False otherwise."
   ]
  },
  {
   "cell_type": "code",
   "execution_count": 67,
   "id": "e7a8c3d8",
   "metadata": {},
   "outputs": [
    {
     "name": "stdout",
     "output_type": "stream",
     "text": [
      "Array :\n",
      " [18 10 43 13 82 16 35 69 15 35]\n",
      "Boolean array:\n",
      " [ True  True False False  True  True False False False False]\n"
     ]
    }
   ],
   "source": [
    "arr = np.random.randint(0,100,10)\n",
    "print('Array :\\n', arr)\n",
    "print('Boolean array:\\n',arr%2 == 0)\n"
   ]
  },
  {
   "cell_type": "markdown",
   "id": "739ce7d4",
   "metadata": {},
   "source": [
    "5. Sort the original array in ascending order."
   ]
  },
  {
   "cell_type": "code",
   "execution_count": 69,
   "id": "60930117",
   "metadata": {},
   "outputs": [
    {
     "name": "stdout",
     "output_type": "stream",
     "text": [
      "[14 28 35 38 38 43 49 52 54 63]\n"
     ]
    }
   ],
   "source": [
    "arr = np.random.randint(0,100,10)\n",
    "print(np.sort(arr))"
   ]
  },
  {
   "cell_type": "markdown",
   "id": "d9e4a675",
   "metadata": {},
   "source": [
    "6. Find the unique values in the original array.\n"
   ]
  },
  {
   "cell_type": "code",
   "execution_count": 74,
   "id": "4136cd62",
   "metadata": {},
   "outputs": [
    {
     "name": "stdout",
     "output_type": "stream",
     "text": [
      "Original array: [90  4 15 86 35 12 32 90 93 52]\n",
      "[ 4 12 15 32 35 52 86 90 93]\n"
     ]
    }
   ],
   "source": [
    "arr = np.random.randint(0,100,10)\n",
    "print('Original array:', arr)\n",
    "print(np.unique(arr))"
   ]
  },
  {
   "cell_type": "markdown",
   "id": "b67642f7",
   "metadata": {},
   "source": [
    "7. Use the np.in1d() function to create a boolean array indicating which elements of the original array are also present in a new array with 5 random integers between 0 and 100.\n"
   ]
  },
  {
   "cell_type": "code",
   "execution_count": 82,
   "id": "5e0b0167",
   "metadata": {},
   "outputs": [
    {
     "name": "stdout",
     "output_type": "stream",
     "text": [
      "Original array: [ 0 49 55 90 68 68 74  0 39 80]\n",
      "New array     : [24  0  6 45 21]\n"
     ]
    },
    {
     "data": {
      "text/plain": [
       "array([ True, False, False, False, False, False, False,  True, False,\n",
       "       False])"
      ]
     },
     "execution_count": 82,
     "metadata": {},
     "output_type": "execute_result"
    }
   ],
   "source": [
    "arr = np.random.randint(0,100,10)\n",
    "print('Original array:', arr)\n",
    "arr2 = np.random.randint(0,100,5)\n",
    "print('New array     :', arr2)\n",
    "\n",
    "np.in1d(arr,arr2)\n"
   ]
  },
  {
   "cell_type": "markdown",
   "id": "3ebda78a",
   "metadata": {},
   "source": [
    "8. Save the original array to a text file named \"my_array.txt\" using the np.savetxt() function."
   ]
  },
  {
   "cell_type": "code",
   "execution_count": 88,
   "id": "1b7fe00b",
   "metadata": {},
   "outputs": [
    {
     "name": "stdout",
     "output_type": "stream",
     "text": [
      "Original array: [18 52 15]\n"
     ]
    }
   ],
   "source": [
    "arr = np.random.randint(0,100,10)\n",
    "print('Original array:', arr)\n",
    "np.savetxt('my_array.txt', arr)"
   ]
  },
  {
   "cell_type": "code",
   "execution_count": null,
   "id": "1c8c5724",
   "metadata": {},
   "outputs": [],
   "source": []
  }
 ],
 "metadata": {
  "kernelspec": {
   "display_name": "Python 3 (ipykernel)",
   "language": "python",
   "name": "python3"
  },
  "language_info": {
   "codemirror_mode": {
    "name": "ipython",
    "version": 3
   },
   "file_extension": ".py",
   "mimetype": "text/x-python",
   "name": "python",
   "nbconvert_exporter": "python",
   "pygments_lexer": "ipython3",
   "version": "3.10.9"
  }
 },
 "nbformat": 4,
 "nbformat_minor": 5
}
